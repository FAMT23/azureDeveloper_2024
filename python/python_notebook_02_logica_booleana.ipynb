{
 "cells": [
  {
   "cell_type": "code",
   "execution_count": 2,
   "metadata": {},
   "outputs": [
    {
     "name": "stdout",
     "output_type": "stream",
     "text": [
      "numero1 es menor que numero2\n"
     ]
    }
   ],
   "source": [
    "numero1 = input(\"Primer número\")\n",
    "numero2 = input(\"Segundo número\")\n",
    "\n",
    "if int(numero1) > int(numero2):\n",
    "    print(\"numero1 es mayor que numero2\")\n",
    "elif numero1 == numero2:\n",
    "    print(\"Los dos números son iguales\")\n",
    "else:\n",
    "    print(\"numero1 es menor que numero2\")\n"
   ]
  },
  {
   "cell_type": "code",
   "execution_count": 3,
   "metadata": {},
   "outputs": [
    {
     "name": "stdout",
     "output_type": "stream",
     "text": [
      "El número 16 está entre el 15 y el 20\n"
     ]
    }
   ],
   "source": [
    "numero1 = int(input(\"Dime un número\"))\n",
    "\n",
    "if numero1 > 9 and numero1<21:\n",
    "    if numero1 > 14:\n",
    "        print(f\"El número {numero1} está entre el 15 y el 20\")\n",
    "    else:\n",
    "        print(f\"El número {numero1} está entre el 10 y el 14\")\n",
    "else:\n",
    "    print(f\"El número {numero1} está entre el 10 y el 20\")"
   ]
  },
  {
   "cell_type": "code",
   "execution_count": null,
   "metadata": {},
   "outputs": [],
   "source": [
    "x = 10\n",
    "y = 5\n",
    "\n",
    "if x > 5 or y >10:\n",
    "    print(\"Al menos una de las condificones es cierta\")\n",
    "if x >5 or y > 10:\n",
    "    print(\"Ninguna de las condiciones es cierta\")\n",
    "if x > 5 and y > 10:\n",
    "    print(\"No me va a devolver nada\")\n",
    "if not x > 5 and not y > 4:\n",
    "    print (\"Ambas condiciones se cumplen\")\n",
    "if not x >15  and not y >10:\n",
    "    print(\"Ambas condiciones se cumplen\")"
   ]
  },
  {
   "cell_type": "code",
   "execution_count": 4,
   "metadata": {},
   "outputs": [
    {
     "ename": "IndexError",
     "evalue": "list index out of range",
     "output_type": "error",
     "traceback": [
      "\u001b[0;31m---------------------------------------------------------------------------\u001b[0m",
      "\u001b[0;31mIndexError\u001b[0m                                Traceback (most recent call last)",
      "Cell \u001b[0;32mIn[4], line 5\u001b[0m\n\u001b[1;32m      2\u001b[0m \u001b[38;5;28;01mimport\u001b[39;00m \u001b[38;5;21;01msys\u001b[39;00m\n\u001b[1;32m      4\u001b[0m numero1 \u001b[38;5;241m=\u001b[39m sys\u001b[38;5;241m.\u001b[39margv[\u001b[38;5;241m1\u001b[39m]\n\u001b[0;32m----> 5\u001b[0m numero2 \u001b[38;5;241m=\u001b[39m \u001b[43msys\u001b[49m\u001b[38;5;241;43m.\u001b[39;49m\u001b[43margv\u001b[49m\u001b[43m[\u001b[49m\u001b[38;5;241;43m2\u001b[39;49m\u001b[43m]\u001b[49m\n\u001b[1;32m      6\u001b[0m operador \u001b[38;5;241m=\u001b[39m sys\u001b[38;5;241m.\u001b[39margv[\u001b[38;5;241m3\u001b[39m]\n\u001b[1;32m      8\u001b[0m \u001b[38;5;28mprint\u001b[39m(numero1)\n",
      "\u001b[0;31mIndexError\u001b[0m: list index out of range"
     ]
    }
   ],
   "source": []
  }
 ],
 "metadata": {
  "kernelspec": {
   "display_name": "Python 3",
   "language": "python",
   "name": "python3"
  },
  "language_info": {
   "codemirror_mode": {
    "name": "ipython",
    "version": 3
   },
   "file_extension": ".py",
   "mimetype": "text/x-python",
   "name": "python",
   "nbconvert_exporter": "python",
   "pygments_lexer": "ipython3",
   "version": "3.12.1"
  }
 },
 "nbformat": 4,
 "nbformat_minor": 2
}
