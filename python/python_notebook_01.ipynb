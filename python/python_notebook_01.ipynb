{
 "cells": [
  {
   "cell_type": "code",
   "execution_count": 1,
   "metadata": {},
   "outputs": [
    {
     "name": "stdout",
     "output_type": "stream",
     "text": [
      "2025-01-07\n"
     ]
    }
   ],
   "source": [
    "from datetime import date\n",
    "print(date.today())"
   ]
  },
  {
   "cell_type": "code",
   "execution_count": null,
   "metadata": {},
   "outputs": [
    {
     "name": "stdout",
     "output_type": "stream",
     "text": [
      "2 parsecs is 6.52312 lighyears\n",
      "2parsecs is 6.52312lighyears\n"
     ]
    }
   ],
   "source": [
    "parsecs = input(\"A cuantos parsecs de distancia etsá el destino estelar?: \")\n",
    "lighyears = int(parsecs) * 3.26156\n",
    "print(f\"{parsecs} parsecs is {lighyears} lighyears\")\n",
    "print(str(parsecs) + \"parsecs is \"+ str(lighyears) + \" lighyears\")"
   ]
  }
 ],
 "metadata": {
  "kernelspec": {
   "display_name": "Python 3",
   "language": "python",
   "name": "python3"
  },
  "language_info": {
   "codemirror_mode": {
    "name": "ipython",
    "version": 3
   },
   "file_extension": ".py",
   "mimetype": "text/x-python",
   "name": "python",
   "nbconvert_exporter": "python",
   "pygments_lexer": "ipython3",
   "version": "3.12.1"
  }
 },
 "nbformat": 4,
 "nbformat_minor": 2
}
