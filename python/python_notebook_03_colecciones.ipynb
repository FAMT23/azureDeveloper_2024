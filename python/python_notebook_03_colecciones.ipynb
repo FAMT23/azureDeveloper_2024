{
 "cells": [
  {
   "cell_type": "markdown",
   "metadata": {},
   "source": [
    "# Colecciones"
   ]
  },
  {
   "cell_type": "markdown",
   "metadata": {},
   "source": [
    "\n",
    "## Listas\n",
    "Una colección ordenada, mutable y que permite elementos duplicados"
   ]
  },
  {
   "cell_type": "code",
   "execution_count": 41,
   "metadata": {},
   "outputs": [
    {
     "name": "stdout",
     "output_type": "stream",
     "text": [
      "2\n",
      "naranja\n",
      "1\n",
      "3\n"
     ]
    }
   ],
   "source": [
    "numeros = [1,2,3,4,5]\n",
    "frutas = [\"manzana\", \"pera\", \"naranja\",\"melocotón\"]\n",
    "mixta = [1, \"rojo\", 2.3]\n",
    "\n",
    "print(numeros[1])\n",
    "print(frutas[2])\n",
    "print(mixta[0])\n",
    "print(len(mixta))\n"
   ]
  },
  {
   "cell_type": "code",
   "execution_count": 42,
   "metadata": {},
   "outputs": [
    {
     "name": "stdout",
     "output_type": "stream",
     "text": [
      "6\n"
     ]
    }
   ],
   "source": [
    "# Añadir nuevo valor a la lista\n",
    "numeros.append(6)\n",
    "print(numeros[5])"
   ]
  },
  {
   "cell_type": "code",
   "execution_count": 43,
   "metadata": {},
   "outputs": [
    {
     "name": "stdout",
     "output_type": "stream",
     "text": [
      "pera\n",
      "Maracuyá\n"
     ]
    }
   ],
   "source": [
    "# Modificar u valor de la lista\n",
    "print(frutas[1])\n",
    "frutas[1]=\"Maracuyá\"\n",
    "print(frutas[1])"
   ]
  },
  {
   "cell_type": "code",
   "execution_count": 44,
   "metadata": {},
   "outputs": [
    {
     "name": "stdout",
     "output_type": "stream",
     "text": [
      "[1]\n"
     ]
    }
   ],
   "source": [
    "# Borrar un elemento de la lista\n",
    "mixta.remove(2.3)  #Elimina un valor que encuentre en la lista sino da error\n",
    "mixta.pop(1) # Elimina conforme un íncide de la lista\n",
    "print(mixta)"
   ]
  },
  {
   "cell_type": "code",
   "execution_count": 45,
   "metadata": {},
   "outputs": [
    {
     "name": "stdout",
     "output_type": "stream",
     "text": [
      "['manzana', 'naranja', 'pera', 'fresa']\n",
      "['manzana', 'naranja', 'peras', 'fresa']\n",
      "['manzana', 'naranja', 'fresa']\n"
     ]
    }
   ],
   "source": [
    "# Ejemplo de operaciones con listas\n",
    "\n",
    "frutas_varias = [\"manzana\",\"naranja\",\"pera\"]\n",
    "frutas_varias.append(\"fresa\")\n",
    "print(frutas_varias)\n",
    "frutas_varias[2]=\"peras\"\n",
    "print(frutas_varias)\n",
    "frutas_varias.pop(2)\n",
    "print(frutas_varias)\n",
    "\n"
   ]
  },
  {
   "cell_type": "markdown",
   "metadata": {},
   "source": [
    "## Tuplas\n",
    "Una colección ordenada, inmutable y que permite elementos duplicados."
   ]
  },
  {
   "cell_type": "code",
   "execution_count": 46,
   "metadata": {},
   "outputs": [],
   "source": [
    "mi_tupla = ( 1,2,3,4,5)\n",
    "frutas = (\"manzana\",\"pera\",\"limon\", \"naranja\")\n",
    "tupla_mixta = (1,\"hola\",3.14, True)"
   ]
  },
  {
   "cell_type": "code",
   "execution_count": 47,
   "metadata": {},
   "outputs": [
    {
     "name": "stdout",
     "output_type": "stream",
     "text": [
      "2\n",
      "True\n"
     ]
    }
   ],
   "source": [
    "print(mi_tupla[1])\n",
    "print(tupla_mixta[3])\n"
   ]
  },
  {
   "cell_type": "markdown",
   "metadata": {},
   "source": [
    "## Sets\n",
    "\n",
    "Una colección desordenada, inmutable (los elementos son inmutables) y que no permite duplicados."
   ]
  },
  {
   "cell_type": "code",
   "execution_count": 48,
   "metadata": {},
   "outputs": [],
   "source": [
    "numeros = {1,2,3,4,5}\n",
    "frutas = {\"manzana\", \"banana\", \"cereza\"}\n",
    "set_mixto = {1,3.14, \"hola\",True}\n",
    "vacio = set() "
   ]
  },
  {
   "cell_type": "code",
   "execution_count": 49,
   "metadata": {},
   "outputs": [
    {
     "name": "stdout",
     "output_type": "stream",
     "text": [
      "{1, 2, 3, 4, 5, 6}\n",
      "6\n",
      "5\n",
      "{1, 2, 3, 4, 6}\n"
     ]
    }
   ],
   "source": [
    "numeros.add(6)\n",
    "print(numeros)\n",
    "print(len(numeros))\n",
    "numeros.remove(len(numeros)-1)\n",
    "print(len(numeros))\n",
    "print(numeros)"
   ]
  },
  {
   "cell_type": "code",
   "execution_count": 50,
   "metadata": {},
   "outputs": [
    {
     "name": "stdout",
     "output_type": "stream",
     "text": [
      "{1, 2, 3, 4, 6, 7, 8}\n"
     ]
    }
   ],
   "source": [
    "masumeros=numeros.union({6,7,8})\n",
    "print(masumeros)"
   ]
  },
  {
   "cell_type": "code",
   "execution_count": 51,
   "metadata": {},
   "outputs": [
    {
     "name": "stdout",
     "output_type": "stream",
     "text": [
      "{1, 2, 3, 4, 6}\n",
      "{2, 4}\n"
     ]
    }
   ],
   "source": [
    "interseccion = numeros.intersection({2,4,7,9})\n",
    "print(numeros)\n",
    "print(interseccion)"
   ]
  },
  {
   "cell_type": "code",
   "execution_count": 52,
   "metadata": {},
   "outputs": [
    {
     "name": "stdout",
     "output_type": "stream",
     "text": [
      "{1, 2, 3, 4, 6}\n",
      "{1, 2, 3, 6}\n"
     ]
    }
   ],
   "source": [
    "diferencia = numeros.difference({4,5})\n",
    "print(numeros)\n",
    "print(diferencia)"
   ]
  }
 ],
 "metadata": {
  "kernelspec": {
   "display_name": "Python 3",
   "language": "python",
   "name": "python3"
  },
  "language_info": {
   "codemirror_mode": {
    "name": "ipython",
    "version": 3
   },
   "file_extension": ".py",
   "mimetype": "text/x-python",
   "name": "python",
   "nbconvert_exporter": "python",
   "pygments_lexer": "ipython3",
   "version": "3.12.1"
  }
 },
 "nbformat": 4,
 "nbformat_minor": 2
}
